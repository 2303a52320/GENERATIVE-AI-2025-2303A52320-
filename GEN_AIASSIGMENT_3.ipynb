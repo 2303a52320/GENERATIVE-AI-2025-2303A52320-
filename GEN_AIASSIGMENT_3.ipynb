{
  "nbformat": 4,
  "nbformat_minor": 0,
  "metadata": {
    "colab": {
      "provenance": [],
      "authorship_tag": "ABX9TyOi0fPbtSZwCujxjkoI+rtD",
      "include_colab_link": true
    },
    "kernelspec": {
      "name": "python3",
      "display_name": "Python 3"
    },
    "language_info": {
      "name": "python"
    }
  },
  "cells": [
    {
      "cell_type": "markdown",
      "metadata": {
        "id": "view-in-github",
        "colab_type": "text"
      },
      "source": [
        "<a href=\"https://colab.research.google.com/github/2303a52320/GENERATIVE-AI-2025-2303A52320-/blob/main/GEN_AIASSIGMENT_3.ipynb\" target=\"_parent\"><img src=\"https://colab.research.google.com/assets/colab-badge.svg\" alt=\"Open In Colab\"/></a>"
      ]
    },
    {
      "cell_type": "code",
      "source": [
        "\n",
        " def gradient_descent(f_prime, initial_x, learning_rate, tolerance, max_iterations):\n",
        "\n",
        "    x = initial_x\n",
        "    for i in range(max_iterations):\n",
        "        gradient = f_prime(x)\n",
        "        new_x = x - learning_rate * gradient\n",
        "        if abs(new_x - x) < tolerance:\n",
        "            return new_x, i + 1\n",
        "        x = new_x\n",
        "    return x, max_iterations\n",
        "\n",
        "def f_prime(x):\n",
        "    return 20*x*x*x + 6*x\n",
        "\n",
        "initial_x = 0\n",
        "learning_rate = 0.1\n",
        "tolerance = 1e-6\n",
        "max_iterations = 1000\n",
        "\n",
        "min_x, iterations = gradient_descent(f_prime, initial_x, learning_rate, tolerance, max_iterations)\n",
        "print(f\"The minimum value is at x = {min_x}, found in {iterations} iterations.\")\n"
      ],
      "metadata": {
        "colab": {
          "base_uri": "https://localhost:8080/"
        },
        "id": "DYKnKp3x1Ukv",
        "outputId": "9969177e-20d6-4b5a-d155-92b33b66b66b"
      },
      "execution_count": 8,
      "outputs": [
        {
          "output_type": "stream",
          "name": "stdout",
          "text": [
            "The minimum value is at x = 0.0, found in 1 iterations.\n"
          ]
        }
      ]
    },
    {
      "cell_type": "code",
      "source": [
        "\n",
        "\n",
        "import sympy as sp\n",
        "\n",
        "\n",
        "x, y = sp.symbols('x y')\n",
        "\n",
        "\n",
        "f = 3 * x**2 + 5 * sp.exp(-y) + 10\n",
        "\n",
        "\n",
        "f_prime_x = sp.diff(f, x)\n",
        "f_prime_y = sp.diff(f, y)\n",
        "\n",
        "print(f\"f'_x(x, y) = {f_prime_x}\")\n",
        "print(f\"f'_y(x, y) = {f_prime_y}\")\n",
        "\n",
        "def gradient_descent_2d(f_prime_x, f_prime_y, initial_x, initial_y, learning_rate, tolerance, max_iterations):\n",
        "\n",
        "    x_val, y_val = initial_x, initial_y\n",
        "    for i in range(max_iterations):\n",
        "        grad_x = f_prime_x.subs({x: x_val, y: y_val})\n",
        "        grad_y = f_prime_y.subs({x: x_val, y: y_val})\n",
        "        new_x = x_val - learning_rate * grad_x\n",
        "        new_y = y_val - learning_rate * grad_y\n",
        "        if abs(new_x - x_val) < tolerance and abs(new_y - y_val) < tolerance:\n",
        "            return (new_x, new_y), i + 1\n",
        "        x_val, y_val = new_x, new_y\n",
        "    return (x_val, y_val), max_iterations\n",
        "\n",
        "initial_x = 0\n",
        "initial_y = 0\n",
        "learning_rate = 0.1\n",
        "tolerance = 1e-6\n",
        "max_iterations = 1000\n",
        "\n",
        "min_values, iterations = gradient_descent_2d(f_prime_x, f_prime_y, initial_x, initial_y, learning_rate, tolerance, max_iterations)\n",
        "print(f\"The minimum value is at x = {min_values[0]}, y = {min_values[1]}, found in {iterations} iterations.\")"
      ],
      "metadata": {
        "colab": {
          "base_uri": "https://localhost:8080/"
        },
        "id": "_376UDt62EQF",
        "outputId": "896a3afa-1ac8-4e72-8603-ad7d34e001e2"
      },
      "execution_count": 15,
      "outputs": [
        {
          "output_type": "stream",
          "name": "stdout",
          "text": [
            "f'_x(x, y) = 6*x\n",
            "f'_y(x, y) = -5*exp(-y)\n",
            "The minimum value is at x = 0, y = 6.21980920407898, found in 1000 iterations.\n"
          ]
        }
      ]
    },
    {
      "cell_type": "code",
      "source": [
        "def compute_error(expected, predicted):\n",
        "\n",
        "    return expected - predicted\n",
        "\n",
        "def compute_square_error(error):\n",
        "\n",
        "    return error ** 2\n",
        "\n",
        "def gradient_descent(inputs, expected_outputs, initial_M, initial_C, learning_rate, tolerance, max_iterations):\n",
        "\n",
        "    M = initial_M\n",
        "    C = initial_C\n",
        "    n = len(inputs)\n",
        "\n",
        "    for iteration in range(max_iterations):\n",
        "        total_gradient_M = 0\n",
        "        total_gradient_C = 0\n",
        "\n",
        "        for i in range(n):\n",
        "            predicted = M * inputs[i] + C\n",
        "            error = compute_error(expected_outputs[i], predicted)\n",
        "            total_gradient_M += -2 * inputs[i] * error\n",
        "            total_gradient_C += -2 * error\n",
        "\n",
        "\n",
        "        gradient_M = total_gradient_M / n\n",
        "        gradient_C = total_gradient_C / n\n",
        "\n",
        "        new_M = M - learning_rate * gradient_M\n",
        "        new_C = C - learning_rate * gradient_C\n",
        "\n",
        "\n",
        "        if abs(new_M - M) < tolerance and abs(new_C - C) < tolerance:\n",
        "            return (new_M, new_C), iteration + 1\n",
        "\n",
        "        M, C = new_M, new_C\n",
        "\n",
        "    return (M, C), max_iterations\n",
        "\n",
        "inputs = [1, 2, 3, 4, 5]\n",
        "expected_outputs = [2, 4, 6, 8, 10]\n",
        "initial_M = 0.0\n",
        "initial_C = 0.0\n",
        "learning_rate = 0.01\n",
        "tolerance = 1e-6\n",
        "max_iterations = 1000\n",
        "\n",
        "optimal_parameters, iterations = gradient_descent(inputs, expected_outputs, initial_M, initial_C, learning_rate, tolerance, max_iterations)\n",
        "print(f\"The optimal values are M = {optimal_parameters[0]}, C = {optimal_parameters[1]}, found in {iterations} iterations.\")"
      ],
      "metadata": {
        "colab": {
          "base_uri": "https://localhost:8080/"
        },
        "id": "Iq7MqsnX2hTY",
        "outputId": "e8131de8-e75f-402d-a826-ce98a94db24f"
      },
      "execution_count": 16,
      "outputs": [
        {
          "output_type": "stream",
          "name": "stdout",
          "text": [
            "The optimal values are M = 1.9951803506719779, C = 0.017400463340610635, found in 1000 iterations.\n"
          ]
        }
      ]
    },
    {
      "cell_type": "code",
      "source": [],
      "metadata": {
        "colab": {
          "base_uri": "https://localhost:8080/"
        },
        "id": "MPnuqAfi2rBo",
        "outputId": "361fe332-213e-4f6e-fb34-5d5af24a79df"
      },
      "execution_count": 6,
      "outputs": [
        {
          "output_type": "stream",
          "name": "stdout",
          "text": [
            "Optimal M: 0.6176946148762643\n",
            "Optimal C: 2.136116825825789\n",
            "Minimum Squared Error: 2.4037141215493465\n"
          ]
        }
      ]
    },
    {
      "cell_type": "code",
      "source": [
        "\n",
        "\n",
        "def sigmoid(x):\n",
        "  return 1 / (1 + (2.71828**-x))\n",
        "\n",
        "def sigmoid_derivative(x):\n",
        "    return sigmoid(x) * (1 - sigmoid(x))\n",
        "\n",
        "def gradient_descent(initial_x, learning_rate, tolerance, max_iterations):\n",
        "    x = initial_x\n",
        "    for i in range(max_iterations):\n",
        "        gradient = sigmoid_derivative(x)\n",
        "        new_x = x - learning_rate * gradient\n",
        "        if abs(new_x - x) < tolerance:\n",
        "            return new_x, i + 1\n",
        "        x = new_x\n",
        "    return x, max_iterations\n",
        "\n",
        "\n",
        "\n",
        "initial_x = 0\n",
        "learning_rate = 0.1\n",
        "tolerance = 1e-6\n",
        "max_iterations = 1000\n",
        "\n",
        "min_x, iterations = gradient_descent(initial_x, learning_rate, tolerance, max_iterations)\n",
        "print(f\"The sigmoid function approaches minimum value around x = {min_x}, found in {iterations} iterations.\")\n"
      ],
      "metadata": {
        "colab": {
          "base_uri": "https://localhost:8080/"
        },
        "id": "tfi2q8nA27nR",
        "outputId": "c80c6063-d48f-4f0b-9859-da9014d09e43"
      },
      "execution_count": 17,
      "outputs": [
        {
          "output_type": "stream",
          "name": "stdout",
          "text": [
            "The sigmoid function approaches minimum value around x = -4.512438801965497, found in 1000 iterations.\n"
          ]
        }
      ]
    },
    {
      "cell_type": "code",
      "source": [],
      "metadata": {
        "id": "0hE469zBF0ri"
      },
      "execution_count": null,
      "outputs": []
    }
  ]
}